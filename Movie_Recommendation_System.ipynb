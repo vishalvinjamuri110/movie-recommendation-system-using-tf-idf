{
  "metadata": {
    "kernelspec": {
      "display_name": "Python 3",
      "name": "python3"
    },
    "language_info": {
      "name": "python",
      "version": "3.10.13",
      "mimetype": "text/x-python",
      "codemirror_mode": {
        "name": "ipython",
        "version": 3
      },
      "pygments_lexer": "ipython3",
      "nbconvert_exporter": "python",
      "file_extension": ".py"
    },
    "kaggle": {
      "accelerator": "none",
      "dataSources": [
        {
          "sourceId": 5872805,
          "sourceType": "datasetVersion",
          "datasetId": 3375918
        }
      ],
      "dockerImageVersionId": 30746,
      "isInternetEnabled": true,
      "language": "python",
      "sourceType": "notebook",
      "isGpuEnabled": false
    },
    "colab": {
      "provenance": [],
      "gpuType": "T4"
    },
    "accelerator": "GPU"
  },
  "nbformat_minor": 0,
  "nbformat": 4,
  "cells": [
    {
      "source": [
        "# IMPORTANT: RUN THIS CELL IN ORDER TO IMPORT YOUR KAGGLE DATA SOURCES,\n",
        "# THEN FEEL FREE TO DELETE THIS CELL.\n",
        "# NOTE: THIS NOTEBOOK ENVIRONMENT DIFFERS FROM KAGGLE'S PYTHON\n",
        "# ENVIRONMENT SO THERE MAY BE MISSING LIBRARIES USED BY YOUR\n",
        "# NOTEBOOK.\n",
        "import kagglehub\n",
        "parasharmanas_movie_recommendation_system_path = kagglehub.dataset_download('parasharmanas/movie-recommendation-system')\n",
        "\n",
        "print('Data source import complete.')\n"
      ],
      "metadata": {
        "id": "MM6vABvq6avo",
        "outputId": "d3e967b3-80f1-457e-be6b-73ff1acee39b",
        "colab": {
          "base_uri": "https://localhost:8080/"
        }
      },
      "cell_type": "code",
      "outputs": [
        {
          "output_type": "stream",
          "name": "stdout",
          "text": [
            "Data source import complete.\n"
          ]
        }
      ],
      "execution_count": 8
    },
    {
      "cell_type": "markdown",
      "source": [
        "# Introduction\n",
        "\n",
        "In this notebook, we will use the TF-IDF (term frequency-inverse document frequency) method to recommend movies based on how similar these movies are.\n",
        "\n",
        "Users can give a title of movie. This system can search for the movies with similar title and make a recommendation based on the ratings and genres."
      ],
      "metadata": {
        "id": "3oH3DvMM6avx"
      }
    },
    {
      "cell_type": "markdown",
      "source": [
        "# 1. Data Loading\n",
        "\n",
        "We import the necessary libraries:"
      ],
      "metadata": {
        "id": "YfnhLXR36av1"
      }
    },
    {
      "cell_type": "code",
      "source": [
        "import pandas as pd\n",
        "import numpy as np\n",
        "from sklearn.feature_extraction.text import TfidfVectorizer\n",
        "from sklearn.metrics.pairwise import cosine_similarity"
      ],
      "metadata": {
        "execution": {
          "iopub.status.busy": "2024-08-11T00:20:19.307177Z",
          "iopub.execute_input": "2024-08-11T00:20:19.307655Z",
          "iopub.status.idle": "2024-08-11T00:20:20.369362Z",
          "shell.execute_reply.started": "2024-08-11T00:20:19.307587Z",
          "shell.execute_reply": "2024-08-11T00:20:20.367826Z"
        },
        "trusted": true,
        "id": "NPiopreA6av2"
      },
      "execution_count": 9,
      "outputs": []
    },
    {
      "cell_type": "markdown",
      "source": [
        "We look into the movies.csv first:"
      ],
      "metadata": {
        "id": "qLtHTSGK6av2"
      }
    },
    {
      "cell_type": "code",
      "source": [
        "df1 = pd.read_csv(\"/content/sample_data/movies.csv\")\n",
        "print(df1.head())"
      ],
      "metadata": {
        "execution": {
          "iopub.status.busy": "2024-08-11T00:20:20.372217Z",
          "iopub.execute_input": "2024-08-11T00:20:20.373336Z",
          "iopub.status.idle": "2024-08-11T00:20:20.520443Z",
          "shell.execute_reply.started": "2024-08-11T00:20:20.373288Z",
          "shell.execute_reply": "2024-08-11T00:20:20.518942Z"
        },
        "trusted": true,
        "id": "SbTqggS56av3",
        "outputId": "445255df-356c-4864-c976-2d8be8276944",
        "colab": {
          "base_uri": "https://localhost:8080/"
        }
      },
      "execution_count": 10,
      "outputs": [
        {
          "output_type": "stream",
          "name": "stdout",
          "text": [
            "   movieId                               title  \\\n",
            "0        1                    Toy Story (1995)   \n",
            "1        2                      Jumanji (1995)   \n",
            "2        3             Grumpier Old Men (1995)   \n",
            "3        4            Waiting to Exhale (1995)   \n",
            "4        5  Father of the Bride Part II (1995)   \n",
            "\n",
            "                                        genres  \n",
            "0  Adventure|Animation|Children|Comedy|Fantasy  \n",
            "1                   Adventure|Children|Fantasy  \n",
            "2                               Comedy|Romance  \n",
            "3                         Comedy|Drama|Romance  \n",
            "4                                       Comedy  \n"
          ]
        }
      ]
    },
    {
      "cell_type": "code",
      "source": [
        "df1.isna().sum()"
      ],
      "metadata": {
        "execution": {
          "iopub.status.busy": "2024-08-11T00:20:20.521802Z",
          "iopub.execute_input": "2024-08-11T00:20:20.52221Z",
          "iopub.status.idle": "2024-08-11T00:20:20.541484Z",
          "shell.execute_reply.started": "2024-08-11T00:20:20.522174Z",
          "shell.execute_reply": "2024-08-11T00:20:20.540265Z"
        },
        "trusted": true,
        "id": "Yw_Zt4Cz6av4",
        "outputId": "6cd9f89c-9add-4101-e05a-ea3c06ea983b",
        "colab": {
          "base_uri": "https://localhost:8080/",
          "height": 178
        }
      },
      "execution_count": 11,
      "outputs": [
        {
          "output_type": "execute_result",
          "data": {
            "text/plain": [
              "movieId    0\n",
              "title      0\n",
              "genres     0\n",
              "dtype: int64"
            ],
            "text/html": [
              "<div>\n",
              "<style scoped>\n",
              "    .dataframe tbody tr th:only-of-type {\n",
              "        vertical-align: middle;\n",
              "    }\n",
              "\n",
              "    .dataframe tbody tr th {\n",
              "        vertical-align: top;\n",
              "    }\n",
              "\n",
              "    .dataframe thead th {\n",
              "        text-align: right;\n",
              "    }\n",
              "</style>\n",
              "<table border=\"1\" class=\"dataframe\">\n",
              "  <thead>\n",
              "    <tr style=\"text-align: right;\">\n",
              "      <th></th>\n",
              "      <th>0</th>\n",
              "    </tr>\n",
              "  </thead>\n",
              "  <tbody>\n",
              "    <tr>\n",
              "      <th>movieId</th>\n",
              "      <td>0</td>\n",
              "    </tr>\n",
              "    <tr>\n",
              "      <th>title</th>\n",
              "      <td>0</td>\n",
              "    </tr>\n",
              "    <tr>\n",
              "      <th>genres</th>\n",
              "      <td>0</td>\n",
              "    </tr>\n",
              "  </tbody>\n",
              "</table>\n",
              "</div><br><label><b>dtype:</b> int64</label>"
            ]
          },
          "metadata": {},
          "execution_count": 11
        }
      ]
    },
    {
      "cell_type": "markdown",
      "source": [
        "We only needs the words and numbers in the title, so we define a clean_title function to clean the title. The genres are separated by a \"|\". We replace them by space."
      ],
      "metadata": {
        "id": "XPA_iug06av_"
      }
    },
    {
      "cell_type": "code",
      "source": [
        "import re\n",
        "\n",
        "def clean_title(title):\n",
        "    return re.sub(\"[^a-zA-Z0-9 ]\", \"\", title)"
      ],
      "metadata": {
        "execution": {
          "iopub.status.busy": "2024-08-11T00:20:20.544016Z",
          "iopub.execute_input": "2024-08-11T00:20:20.544378Z",
          "iopub.status.idle": "2024-08-11T00:20:20.549362Z",
          "shell.execute_reply.started": "2024-08-11T00:20:20.544345Z",
          "shell.execute_reply": "2024-08-11T00:20:20.548063Z"
        },
        "trusted": true,
        "id": "anzAEqeE6awA"
      },
      "execution_count": 12,
      "outputs": []
    },
    {
      "cell_type": "code",
      "source": [
        "df1['genres_list'] = df1['genres'].str.replace('|', ' ')\n",
        "df1['clean_title'] = df1['title'].apply(clean_title)\n",
        "\n",
        "movies_data = df1[['movieId', 'clean_title', 'genres_list']]\n",
        "print(movies_data.head())"
      ],
      "metadata": {
        "execution": {
          "iopub.status.busy": "2024-08-11T00:20:20.550704Z",
          "iopub.execute_input": "2024-08-11T00:20:20.551042Z",
          "iopub.status.idle": "2024-08-11T00:20:20.71908Z",
          "shell.execute_reply.started": "2024-08-11T00:20:20.551014Z",
          "shell.execute_reply": "2024-08-11T00:20:20.717978Z"
        },
        "trusted": true,
        "id": "VT3aIHsi6awA",
        "outputId": "eaff6b30-16c5-496d-ed04-868208e1e895",
        "colab": {
          "base_uri": "https://localhost:8080/"
        }
      },
      "execution_count": 13,
      "outputs": [
        {
          "output_type": "stream",
          "name": "stdout",
          "text": [
            "   movieId                       clean_title  \\\n",
            "0        1                    Toy Story 1995   \n",
            "1        2                      Jumanji 1995   \n",
            "2        3             Grumpier Old Men 1995   \n",
            "3        4            Waiting to Exhale 1995   \n",
            "4        5  Father of the Bride Part II 1995   \n",
            "\n",
            "                                   genres_list  \n",
            "0  Adventure Animation Children Comedy Fantasy  \n",
            "1                   Adventure Children Fantasy  \n",
            "2                               Comedy Romance  \n",
            "3                         Comedy Drama Romance  \n",
            "4                                       Comedy  \n"
          ]
        }
      ]
    },
    {
      "cell_type": "markdown",
      "source": [
        "Now we look into the ratings.csv:"
      ],
      "metadata": {
        "id": "gKN_viml6awB"
      }
    },
    {
      "cell_type": "code",
      "source": [
        "df2 = pd.read_csv(\"/content/sample_data/ratings.csv\")\n",
        "print(df2.head())"
      ],
      "metadata": {
        "execution": {
          "iopub.status.busy": "2024-08-11T00:20:20.720217Z",
          "iopub.execute_input": "2024-08-11T00:20:20.720506Z",
          "iopub.status.idle": "2024-08-11T00:20:35.55442Z",
          "shell.execute_reply.started": "2024-08-11T00:20:20.720481Z",
          "shell.execute_reply": "2024-08-11T00:20:35.553273Z"
        },
        "trusted": true,
        "id": "Yj_bMPaY6awB",
        "outputId": "ddce8f5f-2ef5-4607-89ce-1f144e02834a",
        "colab": {
          "base_uri": "https://localhost:8080/"
        }
      },
      "execution_count": 15,
      "outputs": [
        {
          "output_type": "stream",
          "name": "stdout",
          "text": [
            "   userId  movieId  rating     timestamp\n",
            "0       1      296     5.0  1.147880e+09\n",
            "1       1      306     3.5  1.147869e+09\n",
            "2       1      307     5.0  1.147869e+09\n",
            "3       1      665     5.0  1.147879e+09\n",
            "4       1      899     3.5  1.147869e+09\n"
          ]
        }
      ]
    },
    {
      "cell_type": "code",
      "source": [
        "df2.isna().sum()"
      ],
      "metadata": {
        "execution": {
          "iopub.status.busy": "2024-08-11T00:20:35.555796Z",
          "iopub.execute_input": "2024-08-11T00:20:35.556291Z",
          "iopub.status.idle": "2024-08-11T00:20:35.671588Z",
          "shell.execute_reply.started": "2024-08-11T00:20:35.556176Z",
          "shell.execute_reply": "2024-08-11T00:20:35.670452Z"
        },
        "trusted": true,
        "id": "GcmNaV8c6awC",
        "outputId": "15740737-1463-4b1e-e73a-e237ca7b37a4",
        "colab": {
          "base_uri": "https://localhost:8080/",
          "height": 209
        }
      },
      "execution_count": 16,
      "outputs": [
        {
          "output_type": "execute_result",
          "data": {
            "text/plain": [
              "userId       0\n",
              "movieId      0\n",
              "rating       1\n",
              "timestamp    1\n",
              "dtype: int64"
            ],
            "text/html": [
              "<div>\n",
              "<style scoped>\n",
              "    .dataframe tbody tr th:only-of-type {\n",
              "        vertical-align: middle;\n",
              "    }\n",
              "\n",
              "    .dataframe tbody tr th {\n",
              "        vertical-align: top;\n",
              "    }\n",
              "\n",
              "    .dataframe thead th {\n",
              "        text-align: right;\n",
              "    }\n",
              "</style>\n",
              "<table border=\"1\" class=\"dataframe\">\n",
              "  <thead>\n",
              "    <tr style=\"text-align: right;\">\n",
              "      <th></th>\n",
              "      <th>0</th>\n",
              "    </tr>\n",
              "  </thead>\n",
              "  <tbody>\n",
              "    <tr>\n",
              "      <th>userId</th>\n",
              "      <td>0</td>\n",
              "    </tr>\n",
              "    <tr>\n",
              "      <th>movieId</th>\n",
              "      <td>0</td>\n",
              "    </tr>\n",
              "    <tr>\n",
              "      <th>rating</th>\n",
              "      <td>1</td>\n",
              "    </tr>\n",
              "    <tr>\n",
              "      <th>timestamp</th>\n",
              "      <td>1</td>\n",
              "    </tr>\n",
              "  </tbody>\n",
              "</table>\n",
              "</div><br><label><b>dtype:</b> int64</label>"
            ]
          },
          "metadata": {},
          "execution_count": 16
        }
      ]
    },
    {
      "cell_type": "markdown",
      "source": [
        "We can safely remove the \"timestamp\" column."
      ],
      "metadata": {
        "id": "KhHEGvOR6awC"
      }
    },
    {
      "cell_type": "code",
      "source": [
        "ratings_data = df2.drop(['timestamp'], axis=1)\n",
        "print(ratings_data.head())"
      ],
      "metadata": {
        "execution": {
          "iopub.status.busy": "2024-08-11T00:20:35.673263Z",
          "iopub.execute_input": "2024-08-11T00:20:35.673628Z",
          "iopub.status.idle": "2024-08-11T00:20:35.92054Z",
          "shell.execute_reply.started": "2024-08-11T00:20:35.67358Z",
          "shell.execute_reply": "2024-08-11T00:20:35.919153Z"
        },
        "trusted": true,
        "id": "MQTDueFG6awC",
        "outputId": "c36539c4-24fc-4845-9341-2b77c6d401cc",
        "colab": {
          "base_uri": "https://localhost:8080/"
        }
      },
      "execution_count": 17,
      "outputs": [
        {
          "output_type": "stream",
          "name": "stdout",
          "text": [
            "   userId  movieId  rating\n",
            "0       1      296     5.0\n",
            "1       1      306     3.5\n",
            "2       1      307     5.0\n",
            "3       1      665     5.0\n",
            "4       1      899     3.5\n"
          ]
        }
      ]
    },
    {
      "cell_type": "markdown",
      "source": [
        "Finally, we merge two dataframes."
      ],
      "metadata": {
        "id": "yc09sNnm6awD"
      }
    },
    {
      "cell_type": "code",
      "source": [
        "combined_data = ratings_data.merge(movies_data, on='movieId')\n",
        "print(combined_data.head())"
      ],
      "metadata": {
        "execution": {
          "iopub.status.busy": "2024-08-11T00:20:35.921907Z",
          "iopub.execute_input": "2024-08-11T00:20:35.922238Z",
          "iopub.status.idle": "2024-08-11T00:20:42.308519Z",
          "shell.execute_reply.started": "2024-08-11T00:20:35.92221Z",
          "shell.execute_reply": "2024-08-11T00:20:42.307233Z"
        },
        "trusted": true,
        "id": "PbHkKwyj6awD",
        "outputId": "7ba6a5b4-74c3-4394-a71b-b40200f2a3e7",
        "colab": {
          "base_uri": "https://localhost:8080/"
        }
      },
      "execution_count": 18,
      "outputs": [
        {
          "output_type": "stream",
          "name": "stdout",
          "text": [
            "   userId  movieId  rating                                 clean_title  \\\n",
            "0       1      296     5.0                           Pulp Fiction 1994   \n",
            "1       1      306     3.5  Three Colors Red Trois couleurs Rouge 1994   \n",
            "2       1      307     5.0  Three Colors Blue Trois couleurs Bleu 1993   \n",
            "3       1      665     5.0                            Underground 1995   \n",
            "4       1      899     3.5                     Singin in the Rain 1952   \n",
            "\n",
            "                   genres_list  \n",
            "0  Comedy Crime Drama Thriller  \n",
            "1                        Drama  \n",
            "2                        Drama  \n",
            "3             Comedy Drama War  \n",
            "4       Comedy Musical Romance  \n"
          ]
        }
      ]
    },
    {
      "cell_type": "markdown",
      "source": [
        "# 2. Definition of the Search function"
      ],
      "metadata": {
        "id": "ny2KwfqN6awD"
      }
    },
    {
      "cell_type": "markdown",
      "source": [
        "We use the TF-IDF matrix to search for 5 movies with similar title."
      ],
      "metadata": {
        "id": "G3rXVwWG6awE"
      }
    },
    {
      "cell_type": "code",
      "source": [
        "vectorizer_title = TfidfVectorizer(ngram_range=(1,2))\n",
        "\n",
        "tfidf_title = vectorizer_title.fit_transform(movies_data['clean_title'])\n",
        "\n",
        "def search_by_title(title):\n",
        "    title = clean_title(title)\n",
        "    query_vec = vectorizer_title.transform([title])\n",
        "    similarity = cosine_similarity(query_vec, tfidf_title).flatten()\n",
        "    indices = np.argpartition(similarity, -5)[-5:]\n",
        "    results = movies_data.iloc[indices][::-1]\n",
        "    return results\n",
        "\n",
        "movie_results = search_by_title(\"Toy Story\")\n",
        "print(movie_results)"
      ],
      "metadata": {
        "execution": {
          "iopub.status.busy": "2024-08-11T00:20:42.31172Z",
          "iopub.execute_input": "2024-08-11T00:20:42.312096Z",
          "iopub.status.idle": "2024-08-11T00:20:43.748506Z",
          "shell.execute_reply.started": "2024-08-11T00:20:42.312063Z",
          "shell.execute_reply": "2024-08-11T00:20:43.747417Z"
        },
        "trusted": true,
        "id": "Og5ZoU2k6awE",
        "outputId": "7ae4f009-4d7c-4ee7-b0f6-fa19228d4896",
        "colab": {
          "base_uri": "https://localhost:8080/"
        }
      },
      "execution_count": 19,
      "outputs": [
        {
          "output_type": "stream",
          "name": "stdout",
          "text": [
            "       movieId               clean_title  \\\n",
            "14813    78499          Toy Story 3 2010   \n",
            "3021      3114          Toy Story 2 1999   \n",
            "0            1            Toy Story 1995   \n",
            "59767   201588          Toy Story 4 2019   \n",
            "20497   106022  Toy Story of Terror 2013   \n",
            "\n",
            "                                            genres_list  \n",
            "14813  Adventure Animation Children Comedy Fantasy IMAX  \n",
            "3021        Adventure Animation Children Comedy Fantasy  \n",
            "0           Adventure Animation Children Comedy Fantasy  \n",
            "59767               Adventure Animation Children Comedy  \n",
            "20497                         Animation Children Comedy  \n"
          ]
        }
      ]
    },
    {
      "cell_type": "markdown",
      "source": [
        "Similarly, we can find movies with similar genres."
      ],
      "metadata": {
        "id": "OhM8RNgi6awE"
      }
    },
    {
      "cell_type": "code",
      "source": [
        "vectorizer_genres = TfidfVectorizer(ngram_range=(1,2))\n",
        "\n",
        "tfidf_genres = vectorizer_genres.fit_transform(movies_data['genres_list'])\n",
        "\n",
        "def search_similar_genres(genres):\n",
        "    query_vec = vectorizer_genres.transform([genres])\n",
        "    similarity = cosine_similarity(query_vec, tfidf_genres).flatten()\n",
        "    indices = np.argpartition(similarity, -10)[-10:]\n",
        "    results = movies_data.iloc[indices][::-1]\n",
        "    return results\n",
        "\n",
        "gen = 'Adventure Comedy'\n",
        "print(search_similar_genres(gen))"
      ],
      "metadata": {
        "execution": {
          "iopub.status.busy": "2024-08-11T00:20:43.749651Z",
          "iopub.execute_input": "2024-08-11T00:20:43.749973Z",
          "iopub.status.idle": "2024-08-11T00:20:44.17833Z",
          "shell.execute_reply.started": "2024-08-11T00:20:43.749944Z",
          "shell.execute_reply": "2024-08-11T00:20:44.177091Z"
        },
        "trusted": true,
        "id": "QqUuT4926awE",
        "outputId": "2b495f9f-12b0-4614-a6f1-77cfb16832b6",
        "colab": {
          "base_uri": "https://localhost:8080/"
        }
      },
      "execution_count": 20,
      "outputs": [
        {
          "output_type": "stream",
          "name": "stdout",
          "text": [
            "       movieId                                     clean_title  \\\n",
            "36401   150138             The Four Charlots Musketeers 2 1973   \n",
            "36434   150232                               Bad Hair Day 2015   \n",
            "14673    77841  St Trinians 2 The Legend of Frittons Gold 2009   \n",
            "931        952                Around the World in 80 Days 1956   \n",
            "37581   152968                                     Lusers 2015   \n",
            "37582   152970                  Hunt for the Wilderpeople 2016   \n",
            "14004    72559              Last Remake of Beau Geste The 1977   \n",
            "60085   202419                                Rum Runners 1971   \n",
            "13828    71560  Abbott and Costello in the Foreign Legion 1950   \n",
            "13760    71278                         Mr Robinson Crusoe 1932   \n",
            "\n",
            "            genres_list  \n",
            "36401  Adventure Comedy  \n",
            "36434  Adventure Comedy  \n",
            "14673  Adventure Comedy  \n",
            "931    Adventure Comedy  \n",
            "37581  Adventure Comedy  \n",
            "37582  Adventure Comedy  \n",
            "14004  Adventure Comedy  \n",
            "60085  Adventure Comedy  \n",
            "13828  Adventure Comedy  \n",
            "13760  Adventure Comedy  \n"
          ]
        }
      ]
    },
    {
      "cell_type": "markdown",
      "source": [
        "# 3. Make the recommendation\n",
        "\n",
        "The following function calculates scores for recommendation."
      ],
      "metadata": {
        "id": "32Gcm7gm6awF"
      }
    },
    {
      "cell_type": "code",
      "source": [
        "def scores_calculator(movie_id):\n",
        "    #find the recommendations from users who like the same movie\n",
        "    similar_users = combined_data[(combined_data['movieId']== movie_id) & (combined_data['rating']>=4)]['userId'].unique()\n",
        "    similar_user_recs = combined_data[(combined_data['userId'].isin(similar_users)) & (combined_data['rating']>=4)]['movieId']\n",
        "    similar_user_recs = similar_user_recs.value_counts() / len(similar_users)\n",
        "    #print(similar_user_recs)\n",
        "\n",
        "    #find the recommendations from all users who have watch the movies above\n",
        "    all_users = combined_data[(combined_data['movieId'].isin(similar_user_recs.index)) & (combined_data['rating']>=4)]\n",
        "    all_users_recs = all_users['movieId'].value_counts() / all_users['userId'].nunique()\n",
        "    #print(all_users_recs)\n",
        "\n",
        "    genres_of_selected_movie = combined_data[combined_data['movieId']==movie_id]['genres_list'].unique()\n",
        "    genres_of_selected_movie = np.array2string(genres_of_selected_movie)\n",
        "    movies_with_similar_genres = search_similar_genres(genres_of_selected_movie)\n",
        "\n",
        "    indices = []\n",
        "    for index in movies_with_similar_genres[(movies_with_similar_genres['movieId'].isin(similar_user_recs.index))]['movieId']:\n",
        "        indices.append(index)\n",
        "\n",
        "    #times a factor 1.5 to movies with similar genres and similar users\n",
        "    similar_user_recs.loc[indices] = similar_user_recs.loc[indices]*1.5\n",
        "\n",
        "    #times a factor 0.9 to movies with similar genres and all users\n",
        "    indices = []\n",
        "    for index in movies_with_similar_genres[(movies_with_similar_genres['movieId'].isin(all_users_recs.index))]['movieId']:\n",
        "        indices.append(index)\n",
        "    all_users_recs.loc[indices] = all_users_recs.loc[indices]*0.9\n",
        "\n",
        "    rec_percentages = pd.concat([similar_user_recs, all_users_recs], axis=1)\n",
        "    rec_percentages.columns = ['similar', 'all']\n",
        "    rec_percentages['score'] = rec_percentages['similar'] / rec_percentages['all']\n",
        "\n",
        "    rec_percentages = rec_percentages.sort_values('score', ascending=False)\n",
        "    return rec_percentages\n",
        "\n",
        "scores_calculator(3114)"
      ],
      "metadata": {
        "execution": {
          "iopub.status.busy": "2024-08-11T00:20:44.180164Z",
          "iopub.execute_input": "2024-08-11T00:20:44.180688Z",
          "iopub.status.idle": "2024-08-11T00:20:46.613473Z",
          "shell.execute_reply.started": "2024-08-11T00:20:44.180644Z",
          "shell.execute_reply": "2024-08-11T00:20:46.612078Z"
        },
        "trusted": true,
        "id": "-QLlfde76awF",
        "colab": {
          "base_uri": "https://localhost:8080/",
          "height": 455
        },
        "outputId": "7ddc7a3d-ec00-4f98-ebe9-e07f66c8067c"
      },
      "execution_count": 21,
      "outputs": [
        {
          "output_type": "execute_result",
          "data": {
            "text/plain": [
              "          similar       all      score\n",
              "movieId                               \n",
              "65577    0.013393  0.000757  17.689732\n",
              "115875   0.003348  0.000189  17.689732\n",
              "89069    0.002232  0.000210  10.613839\n",
              "84989    0.002232  0.000210  10.613839\n",
              "6236     0.002232  0.000210  10.613839\n",
              "...           ...       ...        ...\n",
              "127202   0.002232  0.004206   0.530692\n",
              "97188    0.002232  0.004206   0.530692\n",
              "9010     0.002232  0.004416   0.505421\n",
              "62374    0.002232  0.004837   0.461471\n",
              "694      0.002232  0.005889   0.379066\n",
              "\n",
              "[9122 rows x 3 columns]"
            ],
            "text/html": [
              "\n",
              "  <div id=\"df-5b7f2371-f4cb-456b-ae21-846949018e00\" class=\"colab-df-container\">\n",
              "    <div>\n",
              "<style scoped>\n",
              "    .dataframe tbody tr th:only-of-type {\n",
              "        vertical-align: middle;\n",
              "    }\n",
              "\n",
              "    .dataframe tbody tr th {\n",
              "        vertical-align: top;\n",
              "    }\n",
              "\n",
              "    .dataframe thead th {\n",
              "        text-align: right;\n",
              "    }\n",
              "</style>\n",
              "<table border=\"1\" class=\"dataframe\">\n",
              "  <thead>\n",
              "    <tr style=\"text-align: right;\">\n",
              "      <th></th>\n",
              "      <th>similar</th>\n",
              "      <th>all</th>\n",
              "      <th>score</th>\n",
              "    </tr>\n",
              "    <tr>\n",
              "      <th>movieId</th>\n",
              "      <th></th>\n",
              "      <th></th>\n",
              "      <th></th>\n",
              "    </tr>\n",
              "  </thead>\n",
              "  <tbody>\n",
              "    <tr>\n",
              "      <th>65577</th>\n",
              "      <td>0.013393</td>\n",
              "      <td>0.000757</td>\n",
              "      <td>17.689732</td>\n",
              "    </tr>\n",
              "    <tr>\n",
              "      <th>115875</th>\n",
              "      <td>0.003348</td>\n",
              "      <td>0.000189</td>\n",
              "      <td>17.689732</td>\n",
              "    </tr>\n",
              "    <tr>\n",
              "      <th>89069</th>\n",
              "      <td>0.002232</td>\n",
              "      <td>0.000210</td>\n",
              "      <td>10.613839</td>\n",
              "    </tr>\n",
              "    <tr>\n",
              "      <th>84989</th>\n",
              "      <td>0.002232</td>\n",
              "      <td>0.000210</td>\n",
              "      <td>10.613839</td>\n",
              "    </tr>\n",
              "    <tr>\n",
              "      <th>6236</th>\n",
              "      <td>0.002232</td>\n",
              "      <td>0.000210</td>\n",
              "      <td>10.613839</td>\n",
              "    </tr>\n",
              "    <tr>\n",
              "      <th>...</th>\n",
              "      <td>...</td>\n",
              "      <td>...</td>\n",
              "      <td>...</td>\n",
              "    </tr>\n",
              "    <tr>\n",
              "      <th>127202</th>\n",
              "      <td>0.002232</td>\n",
              "      <td>0.004206</td>\n",
              "      <td>0.530692</td>\n",
              "    </tr>\n",
              "    <tr>\n",
              "      <th>97188</th>\n",
              "      <td>0.002232</td>\n",
              "      <td>0.004206</td>\n",
              "      <td>0.530692</td>\n",
              "    </tr>\n",
              "    <tr>\n",
              "      <th>9010</th>\n",
              "      <td>0.002232</td>\n",
              "      <td>0.004416</td>\n",
              "      <td>0.505421</td>\n",
              "    </tr>\n",
              "    <tr>\n",
              "      <th>62374</th>\n",
              "      <td>0.002232</td>\n",
              "      <td>0.004837</td>\n",
              "      <td>0.461471</td>\n",
              "    </tr>\n",
              "    <tr>\n",
              "      <th>694</th>\n",
              "      <td>0.002232</td>\n",
              "      <td>0.005889</td>\n",
              "      <td>0.379066</td>\n",
              "    </tr>\n",
              "  </tbody>\n",
              "</table>\n",
              "<p>9122 rows × 3 columns</p>\n",
              "</div>\n",
              "    <div class=\"colab-df-buttons\">\n",
              "\n",
              "  <div class=\"colab-df-container\">\n",
              "    <button class=\"colab-df-convert\" onclick=\"convertToInteractive('df-5b7f2371-f4cb-456b-ae21-846949018e00')\"\n",
              "            title=\"Convert this dataframe to an interactive table.\"\n",
              "            style=\"display:none;\">\n",
              "\n",
              "  <svg xmlns=\"http://www.w3.org/2000/svg\" height=\"24px\" viewBox=\"0 -960 960 960\">\n",
              "    <path d=\"M120-120v-720h720v720H120Zm60-500h600v-160H180v160Zm220 220h160v-160H400v160Zm0 220h160v-160H400v160ZM180-400h160v-160H180v160Zm440 0h160v-160H620v160ZM180-180h160v-160H180v160Zm440 0h160v-160H620v160Z\"/>\n",
              "  </svg>\n",
              "    </button>\n",
              "\n",
              "  <style>\n",
              "    .colab-df-container {\n",
              "      display:flex;\n",
              "      gap: 12px;\n",
              "    }\n",
              "\n",
              "    .colab-df-convert {\n",
              "      background-color: #E8F0FE;\n",
              "      border: none;\n",
              "      border-radius: 50%;\n",
              "      cursor: pointer;\n",
              "      display: none;\n",
              "      fill: #1967D2;\n",
              "      height: 32px;\n",
              "      padding: 0 0 0 0;\n",
              "      width: 32px;\n",
              "    }\n",
              "\n",
              "    .colab-df-convert:hover {\n",
              "      background-color: #E2EBFA;\n",
              "      box-shadow: 0px 1px 2px rgba(60, 64, 67, 0.3), 0px 1px 3px 1px rgba(60, 64, 67, 0.15);\n",
              "      fill: #174EA6;\n",
              "    }\n",
              "\n",
              "    .colab-df-buttons div {\n",
              "      margin-bottom: 4px;\n",
              "    }\n",
              "\n",
              "    [theme=dark] .colab-df-convert {\n",
              "      background-color: #3B4455;\n",
              "      fill: #D2E3FC;\n",
              "    }\n",
              "\n",
              "    [theme=dark] .colab-df-convert:hover {\n",
              "      background-color: #434B5C;\n",
              "      box-shadow: 0px 1px 3px 1px rgba(0, 0, 0, 0.15);\n",
              "      filter: drop-shadow(0px 1px 2px rgba(0, 0, 0, 0.3));\n",
              "      fill: #FFFFFF;\n",
              "    }\n",
              "  </style>\n",
              "\n",
              "    <script>\n",
              "      const buttonEl =\n",
              "        document.querySelector('#df-5b7f2371-f4cb-456b-ae21-846949018e00 button.colab-df-convert');\n",
              "      buttonEl.style.display =\n",
              "        google.colab.kernel.accessAllowed ? 'block' : 'none';\n",
              "\n",
              "      async function convertToInteractive(key) {\n",
              "        const element = document.querySelector('#df-5b7f2371-f4cb-456b-ae21-846949018e00');\n",
              "        const dataTable =\n",
              "          await google.colab.kernel.invokeFunction('convertToInteractive',\n",
              "                                                    [key], {});\n",
              "        if (!dataTable) return;\n",
              "\n",
              "        const docLinkHtml = 'Like what you see? Visit the ' +\n",
              "          '<a target=\"_blank\" href=https://colab.research.google.com/notebooks/data_table.ipynb>data table notebook</a>'\n",
              "          + ' to learn more about interactive tables.';\n",
              "        element.innerHTML = '';\n",
              "        dataTable['output_type'] = 'display_data';\n",
              "        await google.colab.output.renderOutput(dataTable, element);\n",
              "        const docLink = document.createElement('div');\n",
              "        docLink.innerHTML = docLinkHtml;\n",
              "        element.appendChild(docLink);\n",
              "      }\n",
              "    </script>\n",
              "  </div>\n",
              "\n",
              "\n",
              "    <div id=\"df-091c4f6e-27fc-4703-9a91-626dcb6edef4\">\n",
              "      <button class=\"colab-df-quickchart\" onclick=\"quickchart('df-091c4f6e-27fc-4703-9a91-626dcb6edef4')\"\n",
              "                title=\"Suggest charts\"\n",
              "                style=\"display:none;\">\n",
              "\n",
              "<svg xmlns=\"http://www.w3.org/2000/svg\" height=\"24px\"viewBox=\"0 0 24 24\"\n",
              "     width=\"24px\">\n",
              "    <g>\n",
              "        <path d=\"M19 3H5c-1.1 0-2 .9-2 2v14c0 1.1.9 2 2 2h14c1.1 0 2-.9 2-2V5c0-1.1-.9-2-2-2zM9 17H7v-7h2v7zm4 0h-2V7h2v10zm4 0h-2v-4h2v4z\"/>\n",
              "    </g>\n",
              "</svg>\n",
              "      </button>\n",
              "\n",
              "<style>\n",
              "  .colab-df-quickchart {\n",
              "      --bg-color: #E8F0FE;\n",
              "      --fill-color: #1967D2;\n",
              "      --hover-bg-color: #E2EBFA;\n",
              "      --hover-fill-color: #174EA6;\n",
              "      --disabled-fill-color: #AAA;\n",
              "      --disabled-bg-color: #DDD;\n",
              "  }\n",
              "\n",
              "  [theme=dark] .colab-df-quickchart {\n",
              "      --bg-color: #3B4455;\n",
              "      --fill-color: #D2E3FC;\n",
              "      --hover-bg-color: #434B5C;\n",
              "      --hover-fill-color: #FFFFFF;\n",
              "      --disabled-bg-color: #3B4455;\n",
              "      --disabled-fill-color: #666;\n",
              "  }\n",
              "\n",
              "  .colab-df-quickchart {\n",
              "    background-color: var(--bg-color);\n",
              "    border: none;\n",
              "    border-radius: 50%;\n",
              "    cursor: pointer;\n",
              "    display: none;\n",
              "    fill: var(--fill-color);\n",
              "    height: 32px;\n",
              "    padding: 0;\n",
              "    width: 32px;\n",
              "  }\n",
              "\n",
              "  .colab-df-quickchart:hover {\n",
              "    background-color: var(--hover-bg-color);\n",
              "    box-shadow: 0 1px 2px rgba(60, 64, 67, 0.3), 0 1px 3px 1px rgba(60, 64, 67, 0.15);\n",
              "    fill: var(--button-hover-fill-color);\n",
              "  }\n",
              "\n",
              "  .colab-df-quickchart-complete:disabled,\n",
              "  .colab-df-quickchart-complete:disabled:hover {\n",
              "    background-color: var(--disabled-bg-color);\n",
              "    fill: var(--disabled-fill-color);\n",
              "    box-shadow: none;\n",
              "  }\n",
              "\n",
              "  .colab-df-spinner {\n",
              "    border: 2px solid var(--fill-color);\n",
              "    border-color: transparent;\n",
              "    border-bottom-color: var(--fill-color);\n",
              "    animation:\n",
              "      spin 1s steps(1) infinite;\n",
              "  }\n",
              "\n",
              "  @keyframes spin {\n",
              "    0% {\n",
              "      border-color: transparent;\n",
              "      border-bottom-color: var(--fill-color);\n",
              "      border-left-color: var(--fill-color);\n",
              "    }\n",
              "    20% {\n",
              "      border-color: transparent;\n",
              "      border-left-color: var(--fill-color);\n",
              "      border-top-color: var(--fill-color);\n",
              "    }\n",
              "    30% {\n",
              "      border-color: transparent;\n",
              "      border-left-color: var(--fill-color);\n",
              "      border-top-color: var(--fill-color);\n",
              "      border-right-color: var(--fill-color);\n",
              "    }\n",
              "    40% {\n",
              "      border-color: transparent;\n",
              "      border-right-color: var(--fill-color);\n",
              "      border-top-color: var(--fill-color);\n",
              "    }\n",
              "    60% {\n",
              "      border-color: transparent;\n",
              "      border-right-color: var(--fill-color);\n",
              "    }\n",
              "    80% {\n",
              "      border-color: transparent;\n",
              "      border-right-color: var(--fill-color);\n",
              "      border-bottom-color: var(--fill-color);\n",
              "    }\n",
              "    90% {\n",
              "      border-color: transparent;\n",
              "      border-bottom-color: var(--fill-color);\n",
              "    }\n",
              "  }\n",
              "</style>\n",
              "\n",
              "      <script>\n",
              "        async function quickchart(key) {\n",
              "          const quickchartButtonEl =\n",
              "            document.querySelector('#' + key + ' button');\n",
              "          quickchartButtonEl.disabled = true;  // To prevent multiple clicks.\n",
              "          quickchartButtonEl.classList.add('colab-df-spinner');\n",
              "          try {\n",
              "            const charts = await google.colab.kernel.invokeFunction(\n",
              "                'suggestCharts', [key], {});\n",
              "          } catch (error) {\n",
              "            console.error('Error during call to suggestCharts:', error);\n",
              "          }\n",
              "          quickchartButtonEl.classList.remove('colab-df-spinner');\n",
              "          quickchartButtonEl.classList.add('colab-df-quickchart-complete');\n",
              "        }\n",
              "        (() => {\n",
              "          let quickchartButtonEl =\n",
              "            document.querySelector('#df-091c4f6e-27fc-4703-9a91-626dcb6edef4 button');\n",
              "          quickchartButtonEl.style.display =\n",
              "            google.colab.kernel.accessAllowed ? 'block' : 'none';\n",
              "        })();\n",
              "      </script>\n",
              "    </div>\n",
              "\n",
              "    </div>\n",
              "  </div>\n"
            ],
            "application/vnd.google.colaboratory.intrinsic+json": {
              "type": "dataframe",
              "summary": "{\n  \"name\": \"scores_calculator(3114)\",\n  \"rows\": 9122,\n  \"fields\": [\n    {\n      \"column\": \"movieId\",\n      \"properties\": {\n        \"dtype\": \"number\",\n        \"std\": 56762,\n        \"min\": 1,\n        \"max\": 206208,\n        \"num_unique_values\": 9122,\n        \"samples\": [\n          49220,\n          6978,\n          118246\n        ],\n        \"semantic_type\": \"\",\n        \"description\": \"\"\n      }\n    },\n    {\n      \"column\": \"similar\",\n      \"properties\": {\n        \"dtype\": \"number\",\n        \"std\": 0.04750684702816229,\n        \"min\": 0.002232142857142857,\n        \"max\": 1.0,\n        \"num_unique_values\": 178,\n        \"samples\": [\n          0.033482142857142856,\n          0.25223214285714285,\n          0.24107142857142858\n        ],\n        \"semantic_type\": \"\",\n        \"description\": \"\"\n      }\n    },\n    {\n      \"column\": \"all\",\n      \"properties\": {\n        \"dtype\": \"number\",\n        \"std\": 0.02240775890329134,\n        \"min\": 0.0001892744479495268,\n        \"max\": 0.4288117770767613,\n        \"num_unique_values\": 450,\n        \"samples\": [\n          0.09484752891692955,\n          0.07823343848580441,\n          0.05110410094637224\n        ],\n        \"semantic_type\": \"\",\n        \"description\": \"\"\n      }\n    },\n    {\n      \"column\": \"score\",\n      \"properties\": {\n        \"dtype\": \"number\",\n        \"std\": 3.187642231645928,\n        \"min\": 0.37906568877551017,\n        \"max\": 17.689732142857142,\n        \"num_unique_values\": 1281,\n        \"samples\": [\n          0.9500041335978837,\n          2.343150677633822,\n          1.1172462406015038\n        ],\n        \"semantic_type\": \"\",\n        \"description\": \"\"\n      }\n    }\n  ]\n}"
            }
          },
          "metadata": {},
          "execution_count": 21
        }
      ]
    },
    {
      "cell_type": "markdown",
      "source": [],
      "metadata": {
        "id": "94ij_fzhgapT"
      }
    },
    {
      "cell_type": "markdown",
      "source": [
        "We list 10 movies with the highest score to user"
      ],
      "metadata": {
        "id": "IFH-g6rJ6awF"
      }
    },
    {
      "cell_type": "code",
      "source": [
        "def recommendation_results(user_input, title=0):\n",
        "    # user_input = clean_title(user_input)\n",
        "    title_candidates = search_by_title(user_input)\n",
        "    movie_id = title_candidates.iloc[title]['movieId']\n",
        "    scores = scores_calculator(movie_id)\n",
        "    results = scores.head(10).merge(movies_data, left_index=True, right_on='movieId')[['clean_title', 'score', 'genres_list']]\n",
        "    resutls = results.rename(columns={'clean_title': 'title', 'genres_list': 'genres'}, inplace=True)\n",
        "    return results\n",
        "\n",
        "user_input = \"Jalsa\"\n",
        "print(\"Are you looking for (please choose a number): \")\n",
        "for i in range(5):\n",
        "    print(i, \": \", search_by_title(user_input)['clean_title'].iloc[i])\n",
        "\n",
        "title = 0\n",
        "if int(title) in range(5):\n",
        "    print(\"We have following recommendations: \")\n",
        "    print(recommendation_results(user_input, int(title)))\n",
        "else:\n",
        "    print(\"Sorry! please try again!\")\n",
        "# print(\"================================================\")\n",
        "# print(\"Recommendation_results: \")\n",
        "# print(recommendation_results(user_input))"
      ],
      "metadata": {
        "execution": {
          "iopub.status.busy": "2024-08-11T00:20:46.615019Z",
          "iopub.execute_input": "2024-08-11T00:20:46.615498Z",
          "iopub.status.idle": "2024-08-11T00:20:49.217357Z",
          "shell.execute_reply.started": "2024-08-11T00:20:46.615454Z",
          "shell.execute_reply": "2024-08-11T00:20:49.216053Z"
        },
        "trusted": true,
        "id": "BRqp0ixW6awF",
        "colab": {
          "base_uri": "https://localhost:8080/"
        },
        "outputId": "823a5f08-d64f-493e-dcc4-7c9fcb35b914"
      },
      "execution_count": 22,
      "outputs": [
        {
          "output_type": "stream",
          "name": "stdout",
          "text": [
            "Are you looking for (please choose a number): \n",
            "0 :  Jalsa 2008\n",
            "1 :  I Will Fight No More Forever 1975\n",
            "2 :  Carmen 1918\n",
            "3 :  High School 2010\n",
            "4 :  Gorko 2013\n",
            "We have following recommendations: \n",
            "Empty DataFrame\n",
            "Columns: [title, score, genres]\n",
            "Index: []\n"
          ]
        }
      ]
    }
  ]
}